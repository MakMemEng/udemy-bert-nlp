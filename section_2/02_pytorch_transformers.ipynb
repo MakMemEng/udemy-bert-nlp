{
  "cells": [
    {
      "cell_type": "markdown",
      "metadata": {
        "colab_type": "text",
        "id": "view-in-github"
      },
      "source": [
        "<a href=\"https://colab.research.google.com/github/yukinaga/bert_nlp/blob/main/section_2/02_pytorch_transformers.ipynb\" target=\"_parent\"><img src=\"https://colab.research.google.com/assets/colab-badge.svg\" alt=\"Open In Colab\"/></a>"
      ]
    },
    {
      "cell_type": "markdown",
      "metadata": {
        "id": "KcHOX9LyZc2g"
      },
      "source": [
        "# PyTorch-Transformers\n",
        "BERTの実装へ向けて、自然言語処理ライブラリPyTorch-Transformersを学びます。  \n",
        "PyTorch-Transformersは以下の基本クラスを中心に構成されます。\n",
        "* BertModel\n",
        "* BertConfig\n",
        "* BertTokenizer"
      ]
    },
    {
      "cell_type": "markdown",
      "metadata": {
        "id": "L_Ozfz3NhltP"
      },
      "source": [
        "## ライブラリのインストール\n",
        "PyTorch-Transformers、および必要なライブラリのインストールを行います。"
      ]
    },
    {
      "cell_type": "code",
      "execution_count": null,
      "metadata": {
        "id": "Y_mDYVlb-sqi"
      },
      "outputs": [],
      "source": [
        "!pip install folium==0.2.1\n",
        "!pip install urllib3==1.25.11\n",
        "!pip install pytorch-transformers==1.2.0"
      ]
    },
    {
      "cell_type": "markdown",
      "metadata": {},
      "source": [
        "ImportError: cannot import name 'Mapping' from 'collections'\n",
        "↑python3.10では\n",
        "from collections.abc import Mapping\n",
        "になっているため，pytorch-transformersをそのままImportできない"
      ]
    },
    {
      "cell_type": "markdown",
      "metadata": {
        "id": "nMfvi2uVkItT"
      },
      "source": [
        "## PyTorch-Transformersのモデル\n",
        "PyTorch-Transformersには、様々な訓練済みのモデルを扱うクラスが用意されています。  \n",
        "以下のコードでは、文章の一部をMaskする問題、`BertForMaskedLM`のモデルを設定します。  \n",
        "https://huggingface.co/transformers/model_doc/bert.html#bertformaskedlm  \n",
        "  \n",
        "BertForMaskedLMはベースとなるモデル、`PreTrainedModel`を継承しています。  \n",
        "https://huggingface.co/transformers/main_classes/model.html#transformers.PreTrainedModel  \n",
        "  \n",
        "また、`BertForMaskedLM`は`nn.Module `クラスを継承しているので、通常のPyTorchのモデルとして使用することができます。"
      ]
    },
    {
      "cell_type": "code",
      "execution_count": 1,
      "metadata": {
        "id": "E9Hv5L2HGDmI"
      },
      "outputs": [
        {
          "ename": "ImportError",
          "evalue": "cannot import name 'Mapping' from 'collections' (/Users/makmemeng/.pyenv/versions/3.10.6/lib/python3.10/collections/__init__.py)",
          "output_type": "error",
          "traceback": [
            "\u001b[0;31m---------------------------------------------------------------------------\u001b[0m",
            "\u001b[0;31mImportError\u001b[0m                               Traceback (most recent call last)",
            "\u001b[1;32m/Users/makmemeng/Library/Mobile Documents/com~apple~CloudDocs/MakBookAir/MyCode/Udemy/bert_nlp/section_2/02_pytorch_transformers.ipynb セル 6\u001b[0m line \u001b[0;36m2\n\u001b[1;32m      <a href='vscode-notebook-cell:/Users/makmemeng/Library/Mobile%20Documents/com~apple~CloudDocs/MakBookAir/MyCode/Udemy/bert_nlp/section_2/02_pytorch_transformers.ipynb#W5sZmlsZQ%3D%3D?line=0'>1</a>\u001b[0m \u001b[39mimport\u001b[39;00m \u001b[39mtorch\u001b[39;00m\n\u001b[0;32m----> <a href='vscode-notebook-cell:/Users/makmemeng/Library/Mobile%20Documents/com~apple~CloudDocs/MakBookAir/MyCode/Udemy/bert_nlp/section_2/02_pytorch_transformers.ipynb#W5sZmlsZQ%3D%3D?line=1'>2</a>\u001b[0m \u001b[39mfrom\u001b[39;00m \u001b[39mpytorch_transformers\u001b[39;00m \u001b[39mimport\u001b[39;00m BertForMaskedLM\n\u001b[1;32m      <a href='vscode-notebook-cell:/Users/makmemeng/Library/Mobile%20Documents/com~apple~CloudDocs/MakBookAir/MyCode/Udemy/bert_nlp/section_2/02_pytorch_transformers.ipynb#W5sZmlsZQ%3D%3D?line=3'>4</a>\u001b[0m msk_model \u001b[39m=\u001b[39m BertForMaskedLM\u001b[39m.\u001b[39mfrom_pretrained(\u001b[39m'\u001b[39m\u001b[39mbert-base-uncased\u001b[39m\u001b[39m'\u001b[39m)  \u001b[39m# 訓練済みパラメータの読み込み\u001b[39;00m\n\u001b[1;32m      <a href='vscode-notebook-cell:/Users/makmemeng/Library/Mobile%20Documents/com~apple~CloudDocs/MakBookAir/MyCode/Udemy/bert_nlp/section_2/02_pytorch_transformers.ipynb#W5sZmlsZQ%3D%3D?line=4'>5</a>\u001b[0m \u001b[39mprint\u001b[39m(msk_model)\n",
            "File \u001b[0;32m~/Library/Mobile Documents/com~apple~CloudDocs/MakBookAir/MyCode/Udemy/bert_nlp/.venv/lib/python3.10/site-packages/pytorch_transformers/__init__.py:2\u001b[0m\n\u001b[1;32m      1\u001b[0m __version__ \u001b[39m=\u001b[39m \u001b[39m\"\u001b[39m\u001b[39m1.2.0\u001b[39m\u001b[39m\"\u001b[39m\n\u001b[0;32m----> 2\u001b[0m \u001b[39mfrom\u001b[39;00m \u001b[39m.\u001b[39;00m\u001b[39mtokenization_auto\u001b[39;00m \u001b[39mimport\u001b[39;00m AutoTokenizer\n\u001b[1;32m      3\u001b[0m \u001b[39mfrom\u001b[39;00m \u001b[39m.\u001b[39;00m\u001b[39mtokenization_bert\u001b[39;00m \u001b[39mimport\u001b[39;00m BertTokenizer, BasicTokenizer, WordpieceTokenizer\n\u001b[1;32m      4\u001b[0m \u001b[39mfrom\u001b[39;00m \u001b[39m.\u001b[39;00m\u001b[39mtokenization_openai\u001b[39;00m \u001b[39mimport\u001b[39;00m OpenAIGPTTokenizer\n",
            "File \u001b[0;32m~/Library/Mobile Documents/com~apple~CloudDocs/MakBookAir/MyCode/Udemy/bert_nlp/.venv/lib/python3.10/site-packages/pytorch_transformers/tokenization_auto.py:21\u001b[0m\n\u001b[1;32m     17\u001b[0m \u001b[39mfrom\u001b[39;00m \u001b[39m__future__\u001b[39;00m \u001b[39mimport\u001b[39;00m absolute_import, division, print_function, unicode_literals\n\u001b[1;32m     19\u001b[0m \u001b[39mimport\u001b[39;00m \u001b[39mlogging\u001b[39;00m\n\u001b[0;32m---> 21\u001b[0m \u001b[39mfrom\u001b[39;00m \u001b[39m.\u001b[39;00m\u001b[39mtokenization_bert\u001b[39;00m \u001b[39mimport\u001b[39;00m BertTokenizer\n\u001b[1;32m     22\u001b[0m \u001b[39mfrom\u001b[39;00m \u001b[39m.\u001b[39;00m\u001b[39mtokenization_openai\u001b[39;00m \u001b[39mimport\u001b[39;00m OpenAIGPTTokenizer\n\u001b[1;32m     23\u001b[0m \u001b[39mfrom\u001b[39;00m \u001b[39m.\u001b[39;00m\u001b[39mtokenization_gpt2\u001b[39;00m \u001b[39mimport\u001b[39;00m GPT2Tokenizer\n",
            "File \u001b[0;32m~/Library/Mobile Documents/com~apple~CloudDocs/MakBookAir/MyCode/Udemy/bert_nlp/.venv/lib/python3.10/site-packages/pytorch_transformers/tokenization_bert.py:25\u001b[0m\n\u001b[1;32m     22\u001b[0m \u001b[39mimport\u001b[39;00m \u001b[39municodedata\u001b[39;00m\n\u001b[1;32m     23\u001b[0m \u001b[39mfrom\u001b[39;00m \u001b[39mio\u001b[39;00m \u001b[39mimport\u001b[39;00m \u001b[39mopen\u001b[39m\n\u001b[0;32m---> 25\u001b[0m \u001b[39mfrom\u001b[39;00m \u001b[39m.\u001b[39;00m\u001b[39mtokenization_utils\u001b[39;00m \u001b[39mimport\u001b[39;00m PreTrainedTokenizer\n\u001b[1;32m     27\u001b[0m logger \u001b[39m=\u001b[39m logging\u001b[39m.\u001b[39mgetLogger(\u001b[39m__name__\u001b[39m)\n\u001b[1;32m     29\u001b[0m VOCAB_FILES_NAMES \u001b[39m=\u001b[39m {\u001b[39m'\u001b[39m\u001b[39mvocab_file\u001b[39m\u001b[39m'\u001b[39m: \u001b[39m'\u001b[39m\u001b[39mvocab.txt\u001b[39m\u001b[39m'\u001b[39m}\n",
            "File \u001b[0;32m~/Library/Mobile Documents/com~apple~CloudDocs/MakBookAir/MyCode/Udemy/bert_nlp/.venv/lib/python3.10/site-packages/pytorch_transformers/tokenization_utils.py:26\u001b[0m\n\u001b[1;32m     23\u001b[0m \u001b[39mimport\u001b[39;00m \u001b[39mcopy\u001b[39;00m\n\u001b[1;32m     24\u001b[0m \u001b[39mfrom\u001b[39;00m \u001b[39mio\u001b[39;00m \u001b[39mimport\u001b[39;00m \u001b[39mopen\u001b[39m\n\u001b[0;32m---> 26\u001b[0m \u001b[39mfrom\u001b[39;00m \u001b[39m.\u001b[39;00m\u001b[39mfile_utils\u001b[39;00m \u001b[39mimport\u001b[39;00m cached_path\n\u001b[1;32m     28\u001b[0m logger \u001b[39m=\u001b[39m logging\u001b[39m.\u001b[39mgetLogger(\u001b[39m__name__\u001b[39m)\n\u001b[1;32m     30\u001b[0m SPECIAL_TOKENS_MAP_FILE \u001b[39m=\u001b[39m \u001b[39m'\u001b[39m\u001b[39mspecial_tokens_map.json\u001b[39m\u001b[39m'\u001b[39m\n",
            "File \u001b[0;32m~/Library/Mobile Documents/com~apple~CloudDocs/MakBookAir/MyCode/Udemy/bert_nlp/.venv/lib/python3.10/site-packages/pytorch_transformers/file_utils.py:19\u001b[0m\n\u001b[1;32m     16\u001b[0m \u001b[39mfrom\u001b[39;00m \u001b[39mhashlib\u001b[39;00m \u001b[39mimport\u001b[39;00m sha256\n\u001b[1;32m     17\u001b[0m \u001b[39mfrom\u001b[39;00m \u001b[39mio\u001b[39;00m \u001b[39mimport\u001b[39;00m \u001b[39mopen\u001b[39m\n\u001b[0;32m---> 19\u001b[0m \u001b[39mimport\u001b[39;00m \u001b[39mboto3\u001b[39;00m\n\u001b[1;32m     20\u001b[0m \u001b[39mfrom\u001b[39;00m \u001b[39mbotocore\u001b[39;00m\u001b[39m.\u001b[39;00m\u001b[39mconfig\u001b[39;00m \u001b[39mimport\u001b[39;00m Config\n\u001b[1;32m     21\u001b[0m \u001b[39mfrom\u001b[39;00m \u001b[39mbotocore\u001b[39;00m\u001b[39m.\u001b[39;00m\u001b[39mexceptions\u001b[39;00m \u001b[39mimport\u001b[39;00m ClientError\n",
            "File \u001b[0;32m~/Library/Mobile Documents/com~apple~CloudDocs/MakBookAir/MyCode/Udemy/bert_nlp/.venv/lib/python3.10/site-packages/boto3/__init__.py:16\u001b[0m\n\u001b[1;32m      1\u001b[0m \u001b[39m# Copyright 2014 Amazon.com, Inc. or its affiliates. All Rights Reserved.\u001b[39;00m\n\u001b[1;32m      2\u001b[0m \u001b[39m#\u001b[39;00m\n\u001b[1;32m      3\u001b[0m \u001b[39m# Licensed under the Apache License, Version 2.0 (the \"License\"). You\u001b[39;00m\n\u001b[0;32m   (...)\u001b[0m\n\u001b[1;32m     11\u001b[0m \u001b[39m# ANY KIND, either express or implied. See the License for the specific\u001b[39;00m\n\u001b[1;32m     12\u001b[0m \u001b[39m# language governing permissions and limitations under the License.\u001b[39;00m\n\u001b[1;32m     14\u001b[0m \u001b[39mimport\u001b[39;00m \u001b[39mlogging\u001b[39;00m\n\u001b[0;32m---> 16\u001b[0m \u001b[39mfrom\u001b[39;00m \u001b[39mboto3\u001b[39;00m\u001b[39m.\u001b[39;00m\u001b[39msession\u001b[39;00m \u001b[39mimport\u001b[39;00m Session\n\u001b[1;32m     19\u001b[0m __author__ \u001b[39m=\u001b[39m \u001b[39m'\u001b[39m\u001b[39mAmazon Web Services\u001b[39m\u001b[39m'\u001b[39m\n\u001b[1;32m     20\u001b[0m __version__ \u001b[39m=\u001b[39m \u001b[39m'\u001b[39m\u001b[39m1.7.84\u001b[39m\u001b[39m'\u001b[39m\n",
            "File \u001b[0;32m~/Library/Mobile Documents/com~apple~CloudDocs/MakBookAir/MyCode/Udemy/bert_nlp/.venv/lib/python3.10/site-packages/boto3/session.py:17\u001b[0m\n\u001b[1;32m     14\u001b[0m \u001b[39mimport\u001b[39;00m \u001b[39mcopy\u001b[39;00m\n\u001b[1;32m     15\u001b[0m \u001b[39mimport\u001b[39;00m \u001b[39mos\u001b[39;00m\n\u001b[0;32m---> 17\u001b[0m \u001b[39mimport\u001b[39;00m \u001b[39mbotocore\u001b[39;00m\u001b[39m.\u001b[39;00m\u001b[39msession\u001b[39;00m\n\u001b[1;32m     18\u001b[0m \u001b[39mfrom\u001b[39;00m \u001b[39mbotocore\u001b[39;00m\u001b[39m.\u001b[39;00m\u001b[39mclient\u001b[39;00m \u001b[39mimport\u001b[39;00m Config\n\u001b[1;32m     19\u001b[0m \u001b[39mfrom\u001b[39;00m \u001b[39mbotocore\u001b[39;00m\u001b[39m.\u001b[39;00m\u001b[39mexceptions\u001b[39;00m \u001b[39mimport\u001b[39;00m DataNotFoundError, UnknownServiceError\n",
            "File \u001b[0;32m~/Library/Mobile Documents/com~apple~CloudDocs/MakBookAir/MyCode/Udemy/bert_nlp/.venv/lib/python3.10/site-packages/botocore/session.py:26\u001b[0m\n\u001b[1;32m     23\u001b[0m \u001b[39mimport\u001b[39;00m \u001b[39mwarnings\u001b[39;00m\n\u001b[1;32m     25\u001b[0m \u001b[39mfrom\u001b[39;00m \u001b[39mbotocore\u001b[39;00m \u001b[39mimport\u001b[39;00m __version__\n\u001b[0;32m---> 26\u001b[0m \u001b[39mimport\u001b[39;00m \u001b[39mbotocore\u001b[39;00m\u001b[39m.\u001b[39;00m\u001b[39mconfigloader\u001b[39;00m\n\u001b[1;32m     27\u001b[0m \u001b[39mimport\u001b[39;00m \u001b[39mbotocore\u001b[39;00m\u001b[39m.\u001b[39;00m\u001b[39mcredentials\u001b[39;00m\n\u001b[1;32m     28\u001b[0m \u001b[39mimport\u001b[39;00m \u001b[39mbotocore\u001b[39;00m\u001b[39m.\u001b[39;00m\u001b[39mclient\u001b[39;00m\n",
            "File \u001b[0;32m~/Library/Mobile Documents/com~apple~CloudDocs/MakBookAir/MyCode/Udemy/bert_nlp/.venv/lib/python3.10/site-packages/botocore/configloader.py:19\u001b[0m\n\u001b[1;32m     16\u001b[0m \u001b[39mimport\u001b[39;00m \u001b[39mcopy\u001b[39;00m\n\u001b[1;32m     17\u001b[0m \u001b[39mimport\u001b[39;00m \u001b[39msys\u001b[39;00m\n\u001b[0;32m---> 19\u001b[0m \u001b[39mfrom\u001b[39;00m \u001b[39mbotocore\u001b[39;00m\u001b[39m.\u001b[39;00m\u001b[39mcompat\u001b[39;00m \u001b[39mimport\u001b[39;00m six\n\u001b[1;32m     21\u001b[0m \u001b[39mimport\u001b[39;00m \u001b[39mbotocore\u001b[39;00m\u001b[39m.\u001b[39;00m\u001b[39mexceptions\u001b[39;00m\n\u001b[1;32m     24\u001b[0m \u001b[39mdef\u001b[39;00m \u001b[39mmulti_file_load_config\u001b[39m(\u001b[39m*\u001b[39mfilenames):\n",
            "File \u001b[0;32m~/Library/Mobile Documents/com~apple~CloudDocs/MakBookAir/MyCode/Udemy/bert_nlp/.venv/lib/python3.10/site-packages/botocore/compat.py:25\u001b[0m\n\u001b[1;32m     22\u001b[0m \u001b[39mfrom\u001b[39;00m \u001b[39mmath\u001b[39;00m \u001b[39mimport\u001b[39;00m floor\n\u001b[1;32m     24\u001b[0m \u001b[39mfrom\u001b[39;00m \u001b[39mbotocore\u001b[39;00m\u001b[39m.\u001b[39;00m\u001b[39mvendored\u001b[39;00m \u001b[39mimport\u001b[39;00m six\n\u001b[0;32m---> 25\u001b[0m \u001b[39mfrom\u001b[39;00m \u001b[39mbotocore\u001b[39;00m\u001b[39m.\u001b[39;00m\u001b[39mexceptions\u001b[39;00m \u001b[39mimport\u001b[39;00m MD5UnavailableError\n\u001b[1;32m     26\u001b[0m \u001b[39mfrom\u001b[39;00m \u001b[39mbotocore\u001b[39;00m\u001b[39m.\u001b[39;00m\u001b[39mvendored\u001b[39;00m\u001b[39m.\u001b[39;00m\u001b[39mrequests\u001b[39;00m\u001b[39m.\u001b[39;00m\u001b[39mpackages\u001b[39;00m\u001b[39m.\u001b[39;00m\u001b[39murllib3\u001b[39;00m \u001b[39mimport\u001b[39;00m exceptions\n\u001b[1;32m     28\u001b[0m logger \u001b[39m=\u001b[39m logging\u001b[39m.\u001b[39mgetLogger(\u001b[39m__name__\u001b[39m)\n",
            "File \u001b[0;32m~/Library/Mobile Documents/com~apple~CloudDocs/MakBookAir/MyCode/Udemy/bert_nlp/.venv/lib/python3.10/site-packages/botocore/exceptions.py:15\u001b[0m\n\u001b[1;32m      1\u001b[0m \u001b[39m# Copyright (c) 2012-2013 Mitch Garnaat http://garnaat.org/\u001b[39;00m\n\u001b[1;32m      2\u001b[0m \u001b[39m# Copyright 2012-2014 Amazon.com, Inc. or its affiliates. All Rights Reserved.\u001b[39;00m\n\u001b[1;32m      3\u001b[0m \u001b[39m#\u001b[39;00m\n\u001b[0;32m   (...)\u001b[0m\n\u001b[1;32m     12\u001b[0m \u001b[39m# ANY KIND, either express or implied. See the License for the specific\u001b[39;00m\n\u001b[1;32m     13\u001b[0m \u001b[39m# language governing permissions and limitations under the License.\u001b[39;00m\n\u001b[1;32m     14\u001b[0m \u001b[39mfrom\u001b[39;00m \u001b[39m__future__\u001b[39;00m \u001b[39mimport\u001b[39;00m unicode_literals\n\u001b[0;32m---> 15\u001b[0m \u001b[39mfrom\u001b[39;00m \u001b[39mbotocore\u001b[39;00m\u001b[39m.\u001b[39;00m\u001b[39mvendored\u001b[39;00m\u001b[39m.\u001b[39;00m\u001b[39mrequests\u001b[39;00m\u001b[39m.\u001b[39;00m\u001b[39mexceptions\u001b[39;00m \u001b[39mimport\u001b[39;00m \u001b[39mConnectionError\u001b[39;00m\n\u001b[1;32m     18\u001b[0m \u001b[39mclass\u001b[39;00m \u001b[39mBotoCoreError\u001b[39;00m(\u001b[39mException\u001b[39;00m):\n\u001b[1;32m     19\u001b[0m \u001b[39m    \u001b[39m\u001b[39m\"\"\"\u001b[39;00m\n\u001b[1;32m     20\u001b[0m \u001b[39m    The base exception class for BotoCore exceptions.\u001b[39;00m\n\u001b[1;32m     21\u001b[0m \n\u001b[1;32m     22\u001b[0m \u001b[39m    :ivar msg: The descriptive message associated with the error.\u001b[39;00m\n\u001b[1;32m     23\u001b[0m \u001b[39m    \"\"\"\u001b[39;00m\n",
            "File \u001b[0;32m~/Library/Mobile Documents/com~apple~CloudDocs/MakBookAir/MyCode/Udemy/bert_nlp/.venv/lib/python3.10/site-packages/botocore/vendored/requests/__init__.py:58\u001b[0m\n\u001b[1;32m     55\u001b[0m \u001b[39mexcept\u001b[39;00m \u001b[39mImportError\u001b[39;00m:\n\u001b[1;32m     56\u001b[0m     \u001b[39mpass\u001b[39;00m\n\u001b[0;32m---> 58\u001b[0m \u001b[39mfrom\u001b[39;00m \u001b[39m.\u001b[39;00m \u001b[39mimport\u001b[39;00m utils\n\u001b[1;32m     59\u001b[0m \u001b[39mfrom\u001b[39;00m \u001b[39m.\u001b[39;00m\u001b[39mmodels\u001b[39;00m \u001b[39mimport\u001b[39;00m Request, Response, PreparedRequest\n\u001b[1;32m     60\u001b[0m \u001b[39mfrom\u001b[39;00m \u001b[39m.\u001b[39;00m\u001b[39mapi\u001b[39;00m \u001b[39mimport\u001b[39;00m request, get, head, post, patch, put, delete, options\n",
            "File \u001b[0;32m~/Library/Mobile Documents/com~apple~CloudDocs/MakBookAir/MyCode/Udemy/bert_nlp/.venv/lib/python3.10/site-packages/botocore/vendored/requests/utils.py:26\u001b[0m\n\u001b[1;32m     24\u001b[0m \u001b[39mfrom\u001b[39;00m \u001b[39m.\u001b[39;00m \u001b[39mimport\u001b[39;00m __version__\n\u001b[1;32m     25\u001b[0m \u001b[39mfrom\u001b[39;00m \u001b[39m.\u001b[39;00m \u001b[39mimport\u001b[39;00m certs\n\u001b[0;32m---> 26\u001b[0m \u001b[39mfrom\u001b[39;00m \u001b[39m.\u001b[39;00m\u001b[39mcompat\u001b[39;00m \u001b[39mimport\u001b[39;00m parse_http_list \u001b[39mas\u001b[39;00m _parse_list_header\n\u001b[1;32m     27\u001b[0m \u001b[39mfrom\u001b[39;00m \u001b[39m.\u001b[39;00m\u001b[39mcompat\u001b[39;00m \u001b[39mimport\u001b[39;00m (quote, urlparse, \u001b[39mbytes\u001b[39m, \u001b[39mstr\u001b[39m, OrderedDict, unquote, is_py2,\n\u001b[1;32m     28\u001b[0m                      builtin_str, getproxies, proxy_bypass, urlunparse,\n\u001b[1;32m     29\u001b[0m                      basestring)\n\u001b[1;32m     30\u001b[0m \u001b[39mfrom\u001b[39;00m \u001b[39m.\u001b[39;00m\u001b[39mcookies\u001b[39;00m \u001b[39mimport\u001b[39;00m RequestsCookieJar, cookiejar_from_dict\n",
            "File \u001b[0;32m~/Library/Mobile Documents/com~apple~CloudDocs/MakBookAir/MyCode/Udemy/bert_nlp/.venv/lib/python3.10/site-packages/botocore/vendored/requests/compat.py:7\u001b[0m\n\u001b[1;32m      1\u001b[0m \u001b[39m# -*- coding: utf-8 -*-\u001b[39;00m\n\u001b[1;32m      3\u001b[0m \u001b[39m\"\"\"\u001b[39;00m\n\u001b[1;32m      4\u001b[0m \u001b[39mpythoncompat\u001b[39;00m\n\u001b[1;32m      5\u001b[0m \u001b[39m\"\"\"\u001b[39;00m\n\u001b[0;32m----> 7\u001b[0m \u001b[39mfrom\u001b[39;00m \u001b[39m.\u001b[39;00m\u001b[39mpackages\u001b[39;00m \u001b[39mimport\u001b[39;00m chardet\n\u001b[1;32m      9\u001b[0m \u001b[39mimport\u001b[39;00m \u001b[39msys\u001b[39;00m\n\u001b[1;32m     11\u001b[0m \u001b[39m# -------\u001b[39;00m\n\u001b[1;32m     12\u001b[0m \u001b[39m# Pythons\u001b[39;00m\n\u001b[1;32m     13\u001b[0m \u001b[39m# -------\u001b[39;00m\n\u001b[1;32m     14\u001b[0m \n\u001b[1;32m     15\u001b[0m \u001b[39m# Syntax sugar.\u001b[39;00m\n",
            "File \u001b[0;32m~/Library/Mobile Documents/com~apple~CloudDocs/MakBookAir/MyCode/Udemy/bert_nlp/.venv/lib/python3.10/site-packages/botocore/vendored/requests/packages/__init__.py:3\u001b[0m\n\u001b[1;32m      1\u001b[0m \u001b[39mfrom\u001b[39;00m \u001b[39m__future__\u001b[39;00m \u001b[39mimport\u001b[39;00m absolute_import\n\u001b[0;32m----> 3\u001b[0m \u001b[39mfrom\u001b[39;00m \u001b[39m.\u001b[39;00m \u001b[39mimport\u001b[39;00m urllib3\n",
            "File \u001b[0;32m~/Library/Mobile Documents/com~apple~CloudDocs/MakBookAir/MyCode/Udemy/bert_nlp/.venv/lib/python3.10/site-packages/botocore/vendored/requests/packages/urllib3/__init__.py:10\u001b[0m\n\u001b[1;32m      6\u001b[0m __license__ \u001b[39m=\u001b[39m \u001b[39m'\u001b[39m\u001b[39mMIT\u001b[39m\u001b[39m'\u001b[39m\n\u001b[1;32m      7\u001b[0m __version__ \u001b[39m=\u001b[39m \u001b[39m'\u001b[39m\u001b[39m1.10.4\u001b[39m\u001b[39m'\u001b[39m\n\u001b[0;32m---> 10\u001b[0m \u001b[39mfrom\u001b[39;00m \u001b[39m.\u001b[39;00m\u001b[39mconnectionpool\u001b[39;00m \u001b[39mimport\u001b[39;00m (\n\u001b[1;32m     11\u001b[0m     HTTPConnectionPool,\n\u001b[1;32m     12\u001b[0m     HTTPSConnectionPool,\n\u001b[1;32m     13\u001b[0m     connection_from_url\n\u001b[1;32m     14\u001b[0m )\n\u001b[1;32m     16\u001b[0m \u001b[39mfrom\u001b[39;00m \u001b[39m.\u001b[39;00m \u001b[39mimport\u001b[39;00m exceptions\n\u001b[1;32m     17\u001b[0m \u001b[39mfrom\u001b[39;00m \u001b[39m.\u001b[39;00m\u001b[39mfilepost\u001b[39;00m \u001b[39mimport\u001b[39;00m encode_multipart_formdata\n",
            "File \u001b[0;32m~/Library/Mobile Documents/com~apple~CloudDocs/MakBookAir/MyCode/Udemy/bert_nlp/.venv/lib/python3.10/site-packages/botocore/vendored/requests/packages/urllib3/connectionpool.py:38\u001b[0m\n\u001b[1;32m     31\u001b[0m \u001b[39mfrom\u001b[39;00m \u001b[39m.\u001b[39;00m\u001b[39mconnection\u001b[39;00m \u001b[39mimport\u001b[39;00m (\n\u001b[1;32m     32\u001b[0m     port_by_scheme,\n\u001b[1;32m     33\u001b[0m     DummyConnection,\n\u001b[1;32m     34\u001b[0m     HTTPConnection, HTTPSConnection, VerifiedHTTPSConnection,\n\u001b[1;32m     35\u001b[0m     HTTPException, BaseSSLError, \u001b[39mConnectionError\u001b[39;00m\n\u001b[1;32m     36\u001b[0m )\n\u001b[1;32m     37\u001b[0m \u001b[39mfrom\u001b[39;00m \u001b[39m.\u001b[39;00m\u001b[39mrequest\u001b[39;00m \u001b[39mimport\u001b[39;00m RequestMethods\n\u001b[0;32m---> 38\u001b[0m \u001b[39mfrom\u001b[39;00m \u001b[39m.\u001b[39;00m\u001b[39mresponse\u001b[39;00m \u001b[39mimport\u001b[39;00m HTTPResponse\n\u001b[1;32m     40\u001b[0m \u001b[39mfrom\u001b[39;00m \u001b[39m.\u001b[39;00m\u001b[39mutil\u001b[39;00m\u001b[39m.\u001b[39;00m\u001b[39mconnection\u001b[39;00m \u001b[39mimport\u001b[39;00m is_connection_dropped\n\u001b[1;32m     41\u001b[0m \u001b[39mfrom\u001b[39;00m \u001b[39m.\u001b[39;00m\u001b[39mutil\u001b[39;00m\u001b[39m.\u001b[39;00m\u001b[39mretry\u001b[39;00m \u001b[39mimport\u001b[39;00m Retry\n",
            "File \u001b[0;32m~/Library/Mobile Documents/com~apple~CloudDocs/MakBookAir/MyCode/Udemy/bert_nlp/.venv/lib/python3.10/site-packages/botocore/vendored/requests/packages/urllib3/response.py:9\u001b[0m\n\u001b[1;32m      6\u001b[0m \u001b[39mimport\u001b[39;00m \u001b[39mio\u001b[39;00m\n\u001b[1;32m      7\u001b[0m \u001b[39mfrom\u001b[39;00m \u001b[39msocket\u001b[39;00m \u001b[39mimport\u001b[39;00m timeout \u001b[39mas\u001b[39;00m SocketTimeout\n\u001b[0;32m----> 9\u001b[0m \u001b[39mfrom\u001b[39;00m \u001b[39m.\u001b[39;00m\u001b[39m_collections\u001b[39;00m \u001b[39mimport\u001b[39;00m HTTPHeaderDict\n\u001b[1;32m     10\u001b[0m \u001b[39mfrom\u001b[39;00m \u001b[39m.\u001b[39;00m\u001b[39mexceptions\u001b[39;00m \u001b[39mimport\u001b[39;00m (\n\u001b[1;32m     11\u001b[0m     ProtocolError, DecodeError, ReadTimeoutError, ResponseNotChunked\n\u001b[1;32m     12\u001b[0m )\n\u001b[1;32m     13\u001b[0m \u001b[39mfrom\u001b[39;00m \u001b[39m.\u001b[39;00m\u001b[39mpackages\u001b[39;00m\u001b[39m.\u001b[39;00m\u001b[39msix\u001b[39;00m \u001b[39mimport\u001b[39;00m string_types \u001b[39mas\u001b[39;00m basestring, binary_type, PY3\n",
            "File \u001b[0;32m~/Library/Mobile Documents/com~apple~CloudDocs/MakBookAir/MyCode/Udemy/bert_nlp/.venv/lib/python3.10/site-packages/botocore/vendored/requests/packages/urllib3/_collections.py:1\u001b[0m\n\u001b[0;32m----> 1\u001b[0m \u001b[39mfrom\u001b[39;00m \u001b[39mcollections\u001b[39;00m \u001b[39mimport\u001b[39;00m Mapping, MutableMapping\n\u001b[1;32m      2\u001b[0m \u001b[39mtry\u001b[39;00m:\n\u001b[1;32m      3\u001b[0m     \u001b[39mfrom\u001b[39;00m \u001b[39mthreading\u001b[39;00m \u001b[39mimport\u001b[39;00m RLock\n",
            "\u001b[0;31mImportError\u001b[0m: cannot import name 'Mapping' from 'collections' (/Users/makmemeng/.pyenv/versions/3.10.6/lib/python3.10/collections/__init__.py)"
          ]
        }
      ],
      "source": [
        "import torch\n",
        "from pytorch_transformers import BertForMaskedLM\n",
        "\n",
        "msk_model = BertForMaskedLM.from_pretrained('bert-base-uncased')  # 訓練済みパラメータの読み込み\n",
        "print(msk_model)"
      ]
    },
    {
      "cell_type": "markdown",
      "metadata": {
        "id": "n3V7quRwp1jn"
      },
      "source": [
        "最終的に、単語の数である30522クラスに分類する問題であることが分かります。  \n",
        "\n",
        "同様に、文章を分類する問題、`BertForSequenceClassification`のモデルを設定します。  \n",
        "https://huggingface.co/transformers/model_doc/bert.**html**#bertforsequenceclassification  "
      ]
    },
    {
      "cell_type": "code",
      "execution_count": null,
      "metadata": {
        "id": "7VBwLQZBJyEh"
      },
      "outputs": [],
      "source": [
        "from pytorch_transformers import BertForSequenceClassification\n",
        "\n",
        "sc_model = BertForSequenceClassification.from_pretrained('bert-base-uncased')  # 訓練済みパラメータの読み込み\n",
        "print(sc_model)"
      ]
    },
    {
      "cell_type": "markdown",
      "metadata": {
        "id": "c8k0H8AgshmY"
      },
      "source": [
        "`out_features=2`なので、文章を2クラスに分類する問題であることが分かります。"
      ]
    },
    {
      "cell_type": "markdown",
      "metadata": {
        "id": "rMlz4gJQucPB"
      },
      "source": [
        "# BERTの設定\n",
        "`BertConfig`クラスを使って、モデルの設定を行うことができます。  "
      ]
    },
    {
      "cell_type": "code",
      "execution_count": null,
      "metadata": {
        "id": "F54bOxW6uGBX"
      },
      "outputs": [],
      "source": [
        "from pytorch_transformers import BertConfig\n",
        "\n",
        "config = BertConfig.from_pretrained(\"bert-base-uncased\")\n",
        "print(config) "
      ]
    },
    {
      "cell_type": "markdown",
      "metadata": {
        "id": "nMQKVuZyv-sC"
      },
      "source": [
        "## Tokenizer\n",
        "`BertTokenizer`クラスを使って、訓練済みのデータに基づく形態素解析を行うことができます。"
      ]
    },
    {
      "cell_type": "code",
      "execution_count": null,
      "metadata": {
        "id": "zspnwnNHxIEz"
      },
      "outputs": [],
      "source": [
        "from pytorch_transformers import BertTokenizer\n",
        "\n",
        "text = \"I have a pen. I have an apple.\"\n",
        "\n",
        "tokenizer = BertTokenizer.from_pretrained(\"bert-base-uncased\")\n",
        "words = tokenizer.tokenize(text)\n",
        "print(words)"
      ]
    }
  ],
  "metadata": {
    "colab": {
      "authorship_tag": "ABX9TyNt85hyfPZmH5WkNazP96t9",
      "collapsed_sections": [],
      "include_colab_link": true,
      "name": "02_pytorch_transformers.ipynb",
      "provenance": []
    },
    "kernelspec": {
      "display_name": "Python 3",
      "name": "python3"
    },
    "language_info": {
      "codemirror_mode": {
        "name": "ipython",
        "version": 3
      },
      "file_extension": ".py",
      "mimetype": "text/x-python",
      "name": "python",
      "nbconvert_exporter": "python",
      "pygments_lexer": "ipython3",
      "version": "3.10.6"
    }
  },
  "nbformat": 4,
  "nbformat_minor": 0
}
